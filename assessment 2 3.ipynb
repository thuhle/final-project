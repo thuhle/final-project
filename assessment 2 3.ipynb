{
 "cells": [
  {
   "cell_type": "code",
   "execution_count": 1,
   "metadata": {},
   "outputs": [],
   "source": [
    "def yesnoques(question):\n",
    "    \"\"\"check question for correct format, then return y or n\"\"\"\n",
    "    print(question,\"(y/n)\")\n",
    "    ans=input()\n",
    "    while ans!=\"y\" and ans!=\"n\":\n",
    "        print(\"Please reenter your answer (y/n).\",question)\n",
    "        ans=input()\n",
    "    return ans"
   ]
  },
  {
   "cell_type": "markdown",
   "metadata": {},
   "source": [
    "2-Depression Self assessment \n",
    "\n",
    "1. Do you often feel down, depressed, or hopeless? \n",
    "2. Do you lack interest in activities, hobbies, and what is happening around you? \n",
    "\n",
    "Interpretation: If a patient answers “yes” to either of these questions, it may be an indicator that further assessment is needed. \n"
   ]
  },
  {
   "cell_type": "code",
   "execution_count": null,
   "metadata": {},
   "outputs": [],
   "source": [
    "print(\"This is the depression self-assessment.\")\n",
    "q21=yesnoques(\"Do you often feel down, depressed, or hopeless?\")\n",
    "q22=yesnoques(\"Do you lack interest in activities, hobbies, and what is happening around you?\")\n",
    "if q21=='y' or q22=='y':\n",
    "    print(\"Further assessment is needed from you.\")"
   ]
  },
  {
   "cell_type": "markdown",
   "metadata": {},
   "source": [
    "3- SUICIDE – SELF HARM Suicide Assessment\n",
    "\n",
    "1. Do you feel hopeless about the present or future?\n",
    " If yes move to question If no, go to question 4. \n",
    "2. Have you had thoughts about taking your life? \n",
    "If yes move onto question 3. \n",
    "3. When did you have these thoughts and do you have a plan to take your life? \n",
    "4. Have you ever attempted to harm yourself or attempted suicide?\n",
    "\n",
    "Interpretation: If the patient answered “yes” to any of the questions, seek immediate attention from a trained clinician. \n"
   ]
  },
  {
   "cell_type": "code",
   "execution_count": 4,
   "metadata": {},
   "outputs": [
    {
     "name": "stdout",
     "output_type": "stream",
     "text": [
      "This is the suicide - self harm self-assessment. Please answer y/n to following questions.\n",
      "Do you feel hopeless about the present or future? (y/n)\n"
     ]
    },
    {
     "name": "stdin",
     "output_type": "stream",
     "text": [
      " y\n"
     ]
    },
    {
     "name": "stdout",
     "output_type": "stream",
     "text": [
      "Have you had thoughts about taking your life? (y/n)\n"
     ]
    },
    {
     "name": "stdin",
     "output_type": "stream",
     "text": [
      " n\n"
     ]
    },
    {
     "name": "stdout",
     "output_type": "stream",
     "text": [
      "Have you ever attempted to harm yourself or attempted suicide? (y/n)\n"
     ]
    },
    {
     "name": "stdin",
     "output_type": "stream",
     "text": [
      " n\n"
     ]
    },
    {
     "name": "stdout",
     "output_type": "stream",
     "text": [
      "Please seek immediate attention from a trained clinician.\n"
     ]
    }
   ],
   "source": [
    "print(\"This is the suicide - self harm self-assessment. Please answer y/n to following questions.\")\n",
    "q31=yesnoques(\"Do you feel hopeless about the present or future?\")\n",
    "if q31==\"y\":\n",
    "    q32=yesnoques(\"Have you had thoughts about taking your life?\")\n",
    "    if q32==\"y\":\n",
    "        print(\"When did you have these thoughts and do you have a plan to take your life?\")\n",
    "        q33=input(\"\")\n",
    "        \"\"\"should insert chatbot function into here to reply\"\"\"\n",
    "q34=yesnoques(\"Have you ever attempted to harm yourself or attempted suicide?\")\n",
    "if q31==\"y\" or q32==\"y\" or q34==\"y\":\n",
    "    print(\"Please seek immediate attention from a trained clinician.\")\n",
    "#what happens if patient answer \"no\" to the questions??"
   ]
  },
  {
   "cell_type": "code",
   "execution_count": null,
   "metadata": {},
   "outputs": [],
   "source": [
    "from chatbot import eliza\n",
    "eliza()"
   ]
  },
  {
   "cell_type": "code",
   "execution_count": null,
   "metadata": {},
   "outputs": [],
   "source": []
  }
 ],
 "metadata": {
  "kernelspec": {
   "display_name": "Python 3",
   "language": "python",
   "name": "python3"
  },
  "language_info": {
   "codemirror_mode": {
    "name": "ipython",
    "version": 3
   },
   "file_extension": ".py",
   "mimetype": "text/x-python",
   "name": "python",
   "nbconvert_exporter": "python",
   "pygments_lexer": "ipython3",
   "version": "3.7.6"
  }
 },
 "nbformat": 4,
 "nbformat_minor": 4
}
