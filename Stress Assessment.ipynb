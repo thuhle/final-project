{
 "cells": [
  {
   "cell_type": "code",
   "execution_count": 4,
   "metadata": {},
   "outputs": [
    {
     "name": "stdout",
     "output_type": "stream",
     "text": [
      "Welcome to our stress questionnaire. We will give you a list of topics. \n",
      "For each one, rate your level of stress relating to that topic on a scale of 1 to 5.\n",
      "1 being the least stressed,\n",
      "3 if you are unconcerned, and \n",
      "5 being the most stressed.\n",
      "\n",
      "\n"
     ]
    }
   ],
   "source": [
    "print(\"Welcome to our stress questionnaire. We will give you a list of topics. \\nFor each one, rate your level of stress relating to that topic on a scale of 1 to 5.\\n1 being the least stressed,\\n3 if you are unconcerned, and \\n5 being the most stressed.\\n\\n\")\n",
    "# print(\"Response scale:\\na - Super happy\\nb - Very happy\\nc - Unbothered\\nd - Mildly disappointed\\ne - Very disappointed\")\n"
   ]
  },
  {
   "cell_type": "markdown",
   "metadata": {},
   "source": [
    "# Stress Assessment"
   ]
  },
  {
   "cell_type": "code",
   "execution_count": 3,
   "metadata": {},
   "outputs": [
    {
     "name": "stdin",
     "output_type": "stream",
     "text": [
      "Question 1 : On a scale of 1 to 5, how do you feel in regards to your present job, business, or school?\n",
      "\n",
      " 3\n",
      "Question 2 : How would you rate the quality of your primary relationships?\n",
      "\n",
      " 3\n",
      "Question 3 : How would you rate your capacity to have fun? 3\n",
      "Question 4 : How would you rate your financial prospects?  3\n"
     ]
    },
    {
     "name": "stdout",
     "output_type": "stream",
     "text": [
      "20\n"
     ]
    }
   ],
   "source": [
    "points = 0       #The == makes an error\n",
    "response = input(\"Question 1 : On a scale of 1 to 5, how do you feel in regards to your present job, business, or school?\\n\\n\")\n",
    "if response == 1:\n",
    "        points+=1\n",
    "elif response == 2:\n",
    "        points+=2\n",
    "elif response == 3:\n",
    "        points+=3\n",
    "elif response == 4:\n",
    "        points+=4\n",
    "else:\n",
    "        points+=5     #can add a loop if you want\n",
    "response = input(\"Question 2 : How would you rate the quality of your primary relationships?\\n\\n\")\n",
    "if response == 1:\n",
    "        points+=1\n",
    "elif response == 2:\n",
    "        points+=2\n",
    "elif response == 3:\n",
    "        points+=3\n",
    "elif response == 4:\n",
    "        points+=4\n",
    "else:\n",
    "        points+=5 \n",
    "   #     return points  #How do I fix this part? It says 'return' is outside the function.\n",
    "response = input(\"Question 3 : How would you rate your capacity to have fun?\")\n",
    "if response == 1:\n",
    "        points+=1\n",
    "elif response == 2:\n",
    "        points+=2\n",
    "elif response == 3:\n",
    "        points+=3\n",
    "elif response == 4:\n",
    "        points+=4\n",
    "else:\n",
    "        points+=5\n",
    "response = input(\"Question 4 : How would you rate your financial prospects? \")\n",
    "if response == 1:\n",
    "        points+=1\n",
    "elif response == 2:\n",
    "        points+=2\n",
    "elif response == 3:\n",
    "        points+=3\n",
    "elif response == 4:\n",
    "        points+=4\n",
    "else:\n",
    "        points+=5\n",
    "print(points)        "
   ]
  },
  {
   "cell_type": "code",
   "execution_count": 5,
   "metadata": {},
   "outputs": [
    {
     "name": "stdin",
     "output_type": "stream",
     "text": [
      "Question 5: How satisfied are you concerning spirituality? 3\n",
      "Question 6: How would you rate your level of self-esteem? 3\n",
      "Question 7: How would you rate your sex life? 3\n",
      "Question 8: How satisfied are you with your body, how it looks and performs? 3\n",
      "Question 9: How would you rate your home life? 3\n",
      "Question 10 : Life skills and knowledge of issues and facts unrelated to your job or profession. 3\n",
      "Question 11 : Ability to recover from disappointment, hurts, setbacks, and tragedies. 3\n"
     ]
    },
    {
     "name": "stdout",
     "output_type": "stream",
     "text": [
      "For the following questions, indicate how much you identify with each statement on a scale of 1 to 5.\n"
     ]
    },
    {
     "name": "stdin",
     "output_type": "stream",
     "text": [
      "Question 12 : You have the confidence that you currently are, or will in the future be, reasonably close to your highest potential. 3\n",
      "Question 13 : You have achieved a rounded or balanced quality in your life. 3\n",
      "Question 14: You have the sense that life for you is on an upward curve, getting better and fuller all the time. 3\n",
      "Question 15: You have a role in some kind of network of friends, relatives, and/or others about whom you care deeply and who reciprocate that commitment to you. 3\n"
     ]
    }
   ],
   "source": [
    "response = input(\"Question 5: How satisfied are you concerning spirituality?\")\n",
    "if response == 1:\n",
    "        points+=1\n",
    "elif response == 2:\n",
    "        points+=2\n",
    "elif response == 3:\n",
    "        points+=3\n",
    "elif response == 4:\n",
    "        points+=4\n",
    "else:\n",
    "        points+=5\n",
    "response = input(\"Question 6: How would you rate your level of self-esteem?\")\n",
    "if response == 1:\n",
    "        points+=1\n",
    "elif response == 2:\n",
    "        points+=2\n",
    "elif response == 3:\n",
    "        points+=3\n",
    "elif response == 4:\n",
    "        points+=4\n",
    "else:\n",
    "        points+=5\n",
    "response = input(\"Question 7: How would you rate your sex life?\")\n",
    "if response == 1:\n",
    "        points+=1\n",
    "elif response == 2:\n",
    "        points+=2\n",
    "elif response == 3:\n",
    "        points+=3\n",
    "elif response == 4:\n",
    "        points+=4\n",
    "else:\n",
    "        points+=5\n",
    "response = input(\"Question 8: How satisfied are you with your body, how it looks and performs?\")\n",
    "if response == 1:\n",
    "        points+=1\n",
    "elif response == 2:\n",
    "        points+=2\n",
    "elif response == 3:\n",
    "        points+=3\n",
    "elif response == 4:\n",
    "        points+=4\n",
    "else:\n",
    "        points+=5\n",
    "response = input(\"Question 9: How would you rate your home life?\")\n",
    "if response == 1:\n",
    "        points+=1\n",
    "elif response == 2:\n",
    "        points+=2\n",
    "elif response == 3:\n",
    "        points+=3\n",
    "elif response == 4:\n",
    "        points+=4\n",
    "else:\n",
    "        points+=5\n",
    "response = input(\"Question 10 : Life skills and knowledge of issues and facts unrelated to your job or profession.\")\n",
    "if response == 1:        \n",
    "        points+=1\n",
    "elif response == 2:\n",
    "        points+=2\n",
    "elif response == 3:\n",
    "        points+=3\n",
    "elif response == 4:\n",
    "        points+=4\n",
    "else:\n",
    "        points+=5     #can add a loop if you want\n",
    "response = input(\"Question 11 : Ability to recover from disappointment, hurts, setbacks, and tragedies.\")\n",
    "if response == 1:\n",
    "        points+=1\n",
    "elif response == 2:\n",
    "        points+=2\n",
    "elif response == 3:\n",
    "        points+=3\n",
    "elif response == 4:\n",
    "        points+=4\n",
    "else:\n",
    "        points+=5 \n",
    "   #     return points  #How do I fix this part? It says 'return' is outside the function.\n",
    "print(\"For the following questions, indicate how much you identify with each statement on a scale of 1 to 5.\")           \n",
    "response = input(\"Question 12 : You have the confidence that you currently are, or will in the future be, reasonably close to your highest potential.\")\n",
    "if response == 1:\n",
    "        points+=1\n",
    "elif response == 2:\n",
    "        points+=2\n",
    "elif response == 3:\n",
    "        points+=3\n",
    "elif response == 4:\n",
    "        points+=4\n",
    "else:\n",
    "        points+=5\n",
    "response = input(\"Question 13 : You have achieved a rounded or balanced quality in your life.\")\n",
    "if response == 1:\n",
    "        points+=1\n",
    "elif response == 2:\n",
    "        points+=2\n",
    "elif response == 3:\n",
    "        points+=3\n",
    "elif response == 4:\n",
    "        points+=4\n",
    "else:\n",
    "        points+=5\n",
    "response = input(\"Question 14: You have the sense that life for you is on an upward curve, getting better and fuller all the time.\")\n",
    "if response == 1:\n",
    "        points+=1\n",
    "elif response == 2:\n",
    "        points+=2\n",
    "elif response == 3:\n",
    "        points+=3\n",
    "elif response == 4:\n",
    "        points+=4\n",
    "else:\n",
    "        points+=5\n",
    "response = input(\"Question 15: You have a role in some kind of network of friends, relatives, and/or others about whom you care deeply and who reciprocate that commitment to you.\")\n",
    "if response == 1:\n",
    "        points+=1\n",
    "elif response == 2:\n",
    "        points+=2\n",
    "elif response == 3:\n",
    "        points+=3\n",
    "elif response == 4:\n",
    "        points+=4\n",
    "else:\n",
    "        points+=5\n"
   ]
  },
  {
   "cell_type": "code",
   "execution_count": 6,
   "metadata": {},
   "outputs": [
    {
     "name": "stdout",
     "output_type": "stream",
     "text": [
      "95\n"
     ]
    }
   ],
   "source": [
    "print(points)"
   ]
  },
  {
   "cell_type": "code",
   "execution_count": 1,
   "metadata": {},
   "outputs": [],
   "source": [
    "def assessment1(question, points):\n",
    "    print(question)\n",
    "    response=input()\n",
    "    while response!=\"1\" and response !=\"2\" and response!=\"3\" and response !=\"4\" and response!=\"5\":\n",
    "        response=input(\"Please rate with a number from 1 to 5\")\n",
    "    response=int(response)\n",
    "    print()\n",
    "    if response == 1:\n",
    "        points+=1\n",
    "    elif response == 2:\n",
    "        points+=2\n",
    "    elif response == 3:\n",
    "        points+=3\n",
    "    elif response == 4:\n",
    "        points+=4\n",
    "    else:\n",
    "        points+=5\n",
    "    return points\n",
    "\n"
   ]
  },
  {
   "cell_type": "code",
   "execution_count": null,
   "metadata": {},
   "outputs": [],
   "source": [
    "points=0\n",
    "#question 1-11\n",
    "assessment1(\"Question 1 : On a scale of 1 to 5, how do you feel in regards to your present job, business, or school?\",points)\n",
    "assessment1(\"Question 2 : How would you rate the quality of your primary relationships?\",points)\n",
    "assessment1(\"Question 3 : How would you rate your capacity to have fun?\",points)\n",
    "assessment1(\"Question 4 : How would you rate your financial prospects?\",points)\n",
    "assessment1(\"Question 5: How satisfied are you concerning spirituality?\",points)\n",
    "assessment1(\"Question 6: How would you rate your level of self-esteem?\",points)\n",
    "assessment1(\"Question 7: How would you rate your sex life?\",points)\n",
    "assessment1(\"Question 8: How satisfied are you with your body, how it looks and performs?\",points)\n",
    "assessment1(\"Question 9: How would you rate your home life?\",points)\n",
    "assessment1(\"Question 10 : Life skills and knowledge of issues and facts unrelated to your job or profession.\",points)\n",
    "assessment1(\"Question 11 : Ability to recover from disappointment, hurts, setbacks, and tragedies.\",points)\n",
    "\n",
    "\n",
    "print(\"For the following questions, indicate how much you identify with each statement on a scale of 1 to 5.\")           \n",
    "\n",
    "#question 12-15\n",
    "assessment1(\"Question 12 : You have the confidence that you currently are, or will in the future be, reasonably close to your highest potential.\",points)\n",
    "assessment1(\"Question 13 : You have achieved a rounded or balanced quality in your life.\",points)\n",
    "assessment1(\"Question 14: You have the sense that life for you is on an upward curve, getting better and fuller all the time.\",points)\n",
    "assessment1(\"Question 15: You have a role in some kind of network of friends, relatives, and/or others about whom you care deeply and who reciprocate that commitment to you.\",points)\n",
    "\n",
    "print(points)"
   ]
  },
  {
   "cell_type": "code",
   "execution_count": null,
   "metadata": {},
   "outputs": [],
   "source": [
    "questions = [\n",
    "    \"Present job/ business/ school\",\n",
    "    \"Primary relationships\",\n",
    "    \"Capacity to have fun\",\n",
    "    \"Financial prospects\",\n",
    "    \"Spirituality\",\n",
    "    \"Level of self-esteem\",\n",
    "    \"Sex life\",\n",
    "    \"Body, how it looks and performs\",\n",
    "    \"Home life\"\n",
    "]\n",
    "print(questions)"
   ]
  },
  {
   "cell_type": "code",
   "execution_count": null,
   "metadata": {},
   "outputs": [],
   "source": [
    "def listsum(points):\n",
    "    theSum = 0\n",
    "    for i in points:\n",
    "        theSum = theSum + i\n",
    "    return theSum\n",
    "\n",
    "print(listsum([1,2,3,4,5]))"
   ]
  }
 ],
 "metadata": {
  "kernelspec": {
   "display_name": "Python 3",
   "language": "python",
   "name": "python3"
  },
  "language_info": {
   "codemirror_mode": {
    "name": "ipython",
    "version": 3
   },
   "file_extension": ".py",
   "mimetype": "text/x-python",
   "name": "python",
   "nbconvert_exporter": "python",
   "pygments_lexer": "ipython3",
   "version": "3.7.6"
  }
 },
 "nbformat": 4,
 "nbformat_minor": 4
}
